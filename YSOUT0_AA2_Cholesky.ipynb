{
  "nbformat": 4,
  "nbformat_minor": 0,
  "metadata": {
    "colab": {
      "name": "YSOUT0_AA2_Cholesky.ipynb",
      "provenance": [],
      "authorship_tag": "ABX9TyPXuX8zp7upX+vCp7HNhCrv",
      "include_colab_link": true
    },
    "kernelspec": {
      "name": "python3",
      "display_name": "Python 3"
    }
  },
  "cells": [
    {
      "cell_type": "markdown",
      "metadata": {
        "id": "view-in-github",
        "colab_type": "text"
      },
      "source": [
        "<a href=\"https://colab.research.google.com/github/pvh95/Uni/blob/master/YSOUT0_AA2_Cholesky.ipynb\" target=\"_parent\"><img src=\"https://colab.research.google.com/assets/colab-badge.svg\" alt=\"Open In Colab\"/></a>"
      ]
    },
    {
      "cell_type": "code",
      "metadata": {
        "id": "CEiQgQvf95ou",
        "colab_type": "code",
        "colab": {}
      },
      "source": [
        "import numpy as np\n",
        "import math"
      ],
      "execution_count": null,
      "outputs": []
    },
    {
      "cell_type": "code",
      "metadata": {
        "id": "IjeQOQ7omVH7",
        "colab_type": "code",
        "colab": {}
      },
      "source": [
        "def cholesky(mtx):\n",
        "  if mtx.shape[0] != mtx.shape[1]:\n",
        "    raise TypeError('Please provide a square matrix')\n",
        "  n = len(mtx)\n",
        "  for k in range(n):\n",
        "    try:\n",
        "      mtx[k,k] = math.sqrt(mtx[k,k] - np.dot(mtx[k,0:k], mtx[k,0:k]))\n",
        "    except ValueError:\n",
        "      raise ValueError('Your matrix is not symmetric positive definite.')\n",
        "    for i in range(k+1,n):\n",
        "      if mtx[k,k] == 0: \n",
        "        raise ZeroDivisionError('Your diagonal element contains zero.')\n",
        "      mtx[i,k] = (mtx[i,k] - np.dot(mtx[i,0:k], mtx[k,0:k]))/mtx[k,k]\n",
        "  for k in range(1,n): \n",
        "    mtx[0:k,k] = 0\n",
        "  return mtx"
      ],
      "execution_count": null,
      "outputs": []
    },
    {
      "cell_type": "code",
      "metadata": {
        "id": "wbKSq0kR97lc",
        "colab_type": "code",
        "colab": {
          "base_uri": "https://localhost:8080/",
          "height": 51
        },
        "outputId": "92a9d96a-ccc9-4670-9363-3d30ef718b9c"
      },
      "source": [
        "A = np.array([[3,1],[1,3]])\n",
        "L = cholesky(A)\n",
        "L"
      ],
      "execution_count": null,
      "outputs": [
        {
          "output_type": "execute_result",
          "data": {
            "text/plain": [
              "array([[1, 0],\n",
              "       [1, 1]])"
            ]
          },
          "metadata": {
            "tags": []
          },
          "execution_count": 13
        }
      ]
    },
    {
      "cell_type": "code",
      "metadata": {
        "id": "qraz1X2z-VzX",
        "colab_type": "code",
        "colab": {}
      },
      "source": [
        ""
      ],
      "execution_count": null,
      "outputs": []
    }
  ]
}