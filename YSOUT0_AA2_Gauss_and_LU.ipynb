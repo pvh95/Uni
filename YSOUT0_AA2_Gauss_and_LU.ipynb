{
  "nbformat": 4,
  "nbformat_minor": 0,
  "metadata": {
    "colab": {
      "name": "YSOUT0_AA2_Gauss_and_LU.ipynb",
      "provenance": [],
      "collapsed_sections": [],
      "authorship_tag": "ABX9TyMF1XYWzS3F78aPSheRgj3O",
      "include_colab_link": true
    },
    "kernelspec": {
      "name": "python3",
      "display_name": "Python 3"
    }
  },
  "cells": [
    {
      "cell_type": "markdown",
      "metadata": {
        "id": "view-in-github",
        "colab_type": "text"
      },
      "source": [
        "<a href=\"https://colab.research.google.com/github/pvh95/Uni/blob/master/YSOUT0_AA2_Gauss_and_LU.ipynb\" target=\"_parent\"><img src=\"https://colab.research.google.com/assets/colab-badge.svg\" alt=\"Open In Colab\"/></a>"
      ]
    },
    {
      "cell_type": "markdown",
      "metadata": {
        "id": "fvF2-IY4dS1_",
        "colab_type": "text"
      },
      "source": [
        "# **Gauss-elimination**"
      ]
    },
    {
      "cell_type": "code",
      "metadata": {
        "id": "4CC9JnLuUT-x",
        "colab_type": "code",
        "colab": {}
      },
      "source": [
        "import numpy as np \n",
        "import sympy \n",
        "import scipy.sparse as sp\n",
        "import scipy.sparse.linalg\n",
        "from numpy.linalg import matrix_rank\n",
        "import copy"
      ],
      "execution_count": 1,
      "outputs": []
    },
    {
      "cell_type": "code",
      "metadata": {
        "id": "HTePO3AmV_Ca",
        "colab_type": "code",
        "colab": {}
      },
      "source": [
        "def gauss_elim(mtx, b): \n",
        "  ''' \n",
        "  Expected to have a square mtx as an input\n",
        "  '''\n",
        "  mtx = mtx.astype(np.float64)\n",
        "  b = b.astype(np.float64)\n",
        "\n",
        "  #print(mtx.shape)\n",
        "  #print()\n",
        "\n",
        "  #### If not a square mtx, throw an error message\n",
        "  if mtx.shape[0] != mtx.shape[1]:\n",
        "    raise TypeError('Please provide a square matrix')\n",
        "\n",
        "  if mtx.shape[0]!= len(b):\n",
        "    raise TypeError('The dimension of b is not inline with the number of rows of your matrix.')\n",
        "\n",
        "  n = mtx.shape[0] #Extract dimension\n",
        "  mtx_exp = np.zeros((n,n+1)) #Creating Augumented/Expanded matrix and filling them w/ a zero\n",
        "  mtx_exp[:, :n] = mtx  #Original matrix to the nxn area\n",
        "  mtx_exp[:, n] = b     #Append the n+1th column with b\n",
        "  #print(mtx_exp)\n",
        "\n",
        "  #### Gauss can be implemented iff r(mtx) = r(mtx|b)\n",
        "  if matrix_rank(mtx) != matrix_rank(mtx_exp): \n",
        "    raise TypeError('Please provide another square mtx, because yours will not be solved due to the rank problem.')\n",
        "\n",
        "  for i in range(n): #Using pivot selection algorithm w/ regards to column\n",
        "    #pivot_val = max(mtx[i:, i]) #Determine the biggest value in the RIGHT size of column \n",
        "    #row_index = np.where(mtx[i:, i] == pivot_val)[0][0] + i   #As we decrease the size of a matrix when selecting from the reduced column, to get the real row_index of the biggest element => need to append it with the reduced dimension\n",
        "    abs_array = np.absolute(mtx[i:, i])   #Taking of abs values of each elemnts\n",
        "    pivot_val = max(abs_array)   # select the  biggest value\n",
        "    row_index = np.where(abs_array == pivot_val)[0][0] + i   #As we decrease the size of a matrix when selecting from the reduced column, to get the real row_index of the biggest element => need to append it with the reduced dimension\n",
        "    #print('Before tinkering:')\n",
        "    #print(mtx)\n",
        "    #print(b)\n",
        "    #print()\n",
        "    mtx[[i,row_index]] = mtx[[row_index, i]]   #swap rows according to row_index determined by the biggest element in a column \n",
        "    b[i], b[row_index] = b[row_index], b[i]    #swap corresponding to the appropriate elements \n",
        "    #print(mtx)\n",
        "    #print(b)\n",
        "    #print()\n",
        "\n",
        "    mtx[i, :] = mtx[i, :]/pivot_val        #To get 1 at the pivot element, need to divide the whole row by the pivot_element\n",
        "    b[i] = b[i]/pivot_val                   #Do the same with the corresponding b value \n",
        "\n",
        "    #print(mtx)\n",
        "    #print(b)\n",
        "    #print()\n",
        "\n",
        "    ###The Gauss-elimination step \n",
        "    for j in range(i+1, n):                 \n",
        "      ratio = mtx[j,i]/mtx[i,i]\n",
        "      #print(ratio)                 \n",
        "      mtx[j] = mtx[j] - ratio*mtx[i]\n",
        "      b[j] = b[j] - ratio*b[i]\n",
        "\n",
        "    #print(mtx)\n",
        "    #print(b)\n",
        "    #print('---------------------------')\n",
        "\n",
        "\n",
        "  x = np.zeros(b.shape)         #creating the zero_vector x having the same shape as the b vector\n",
        "\n",
        "  #Backsubtitution:\n",
        "  x[n-1] = b[n-1]/mtx[n-1, n-1]     #Calculating the last value of x with the help of the corresponding b value and the bottom right element of the upper triangular matrix\n",
        "  #print(x)\n",
        "\n",
        "\n",
        "  for i in range(n-2, -1, -1):\n",
        "    x[i] = b[i]\n",
        "\n",
        "    for j in range(i+1, n):\n",
        "      x[i] = x[i] - mtx[i, j]*x[j]     #Subtracting the appropriate values from the matrix with the known coefficents x calculated in previous steps\n",
        "\n",
        "  \n",
        "  #print(x)\n",
        "  print('\\nRequired solution is: ')\n",
        "  for i in range(n):\n",
        "    print('X%d = %0.2f' %(i,x[i]), end = '\\t')  \n",
        "\n",
        "  #x = list(x)\n",
        "\n",
        "\n",
        "  return mtx,b, x\n"
      ],
      "execution_count": 14,
      "outputs": []
    },
    {
      "cell_type": "code",
      "metadata": {
        "id": "ln089EpoRnsI",
        "colab_type": "code",
        "colab": {}
      },
      "source": [
        "#Test Case 0: \n",
        "\n",
        "B = np.array([[0, 2], [3,0]])\n",
        "b = np.array([2,3,4])\n",
        "U, y, x = gauss_elim(B, b)"
      ],
      "execution_count": null,
      "outputs": []
    },
    {
      "cell_type": "code",
      "metadata": {
        "id": "9ScHsydWaYyK",
        "colab_type": "code",
        "colab": {
          "base_uri": "https://localhost:8080/",
          "height": 68
        },
        "outputId": "12077c29-52ee-41b9-8a1d-f2e2b5ff2980"
      },
      "source": [
        "#Test Case 1: \n",
        "\n",
        "B = np.array([[0, 2], [3,0]])\n",
        "b = np.array([2,3])\n",
        "U, y, x = gauss_elim(B, b)"
      ],
      "execution_count": 15,
      "outputs": [
        {
          "output_type": "stream",
          "text": [
            "\n",
            "Required solution is: \n",
            "X0 = 1.00\tX1 = 1.00\t"
          ],
          "name": "stdout"
        }
      ]
    },
    {
      "cell_type": "code",
      "metadata": {
        "id": "J6mNsM2wKTEg",
        "colab_type": "code",
        "colab": {
          "base_uri": "https://localhost:8080/",
          "height": 68
        },
        "outputId": "29f1c3bc-e57c-4033-8970-3f01c37c2b8f"
      },
      "source": [
        "#Test Case 2: \n",
        "\n",
        "A = np.array([[1, 2, 4], [2,1,3], [5,3,4]])\n",
        "b = np.array([13,10,19])\n",
        "U, y, x = gauss_elim(A, b)"
      ],
      "execution_count": 16,
      "outputs": [
        {
          "output_type": "stream",
          "text": [
            "\n",
            "Required solution is: \n",
            "X0 = 1.00\tX1 = 2.00\tX2 = 2.00\t"
          ],
          "name": "stdout"
        }
      ]
    },
    {
      "cell_type": "code",
      "metadata": {
        "colab_type": "code",
        "id": "8Onj0N9gXRV_",
        "colab": {}
      },
      "source": [
        "#Test Case 3: \n",
        "\n",
        "A = np.array([[0,1,1], [1,2,1], [2,7,9]])\n",
        "b = np.array([13,10,19])\n",
        "U, y, x = gauss_elim(A, b)"
      ],
      "execution_count": null,
      "outputs": []
    },
    {
      "cell_type": "markdown",
      "metadata": {
        "id": "chcD0dnOdkDM",
        "colab_type": "text"
      },
      "source": [
        "# **LU Decomposition**"
      ]
    },
    {
      "cell_type": "code",
      "metadata": {
        "id": "QXG4hnX76Bfl",
        "colab_type": "code",
        "colab": {}
      },
      "source": [
        "def lu_decomp(mtx): \n",
        "  ''' \n",
        "  Expected to have a square mtx as an input\n",
        "  '''\n",
        "  mtx = mtx.astype(np.float64)\n",
        "\n",
        "  #### If not a square mtx, throw an error message\n",
        "  if mtx.shape[0] != mtx.shape[1]:\n",
        "    raise TypeError('Please provide a square matrix')\n",
        "  \n",
        "  n = mtx.shape[0] #Extract dimension\n",
        "  L = np.zeros((n,n))  #Creating nxn zero-mtx\n",
        "\n",
        "  #### Gauss can be implemented iff r(mtx) = r(mtx|b)\n",
        "  if matrix_rank(mtx) != n: \n",
        "    raise TypeError('Please provide another square mtx, because yours is not a full rank square matrix.')\n",
        "\n",
        "  for i in range(n): #Using pivot selection algorithm w/ regards to column\n",
        "    abs_array = np.absolute(mtx[i:, i])   #Taking of abs values of each elemnts\n",
        "    pivot_val = max(abs_array)   # select the  biggest value\n",
        "    row_index = np.where(abs_array == pivot_val)[0][0] + i   #As we decrease the size of a matrix when selecting from the reduced column, to get the real row_index of the biggest element => need to append it with the reduced dimension\n",
        " \n",
        "    mtx[[i,row_index]] = mtx[[row_index, i]]   #swap rows according to row_index determined by the biggest element in a column \n",
        "\n",
        "    if i == 0:   #At this step we don't tinker with L \n",
        "      P_orig = np.eye(n)    #creating nxn id_mtx, which would be our original permutation matrix \n",
        "      P_orig[[i,row_index]] = P_orig[[row_index, i]]   #changing rows according to th pivont element selection described abobe \n",
        "      P_transient = copy.deepcopy(P_orig)  #make of the row-changed P_orig and save it to P_transient mtx which will be used below \n",
        "\n",
        "\n",
        "    elif i != 0 and i != n-1:  # At this part we modify L in accordance with P_new which is transformed from row-exchaned P_orig\n",
        "      P_orig = np.eye(n)    \n",
        "      P_orig[[i,row_index]] = P_orig[[row_index, i]] \n",
        "      P_new = copy.deepcopy(P_orig)\n",
        "      P = P_transient.dot(P_new)\n",
        "      P_transient = P\n",
        "      L = P_new.dot(L)\n",
        "\n",
        "    \n",
        "    ###Creating U from tinkering our original mtx and L \n",
        "    for j in range(i+1, n):\n",
        "      L[i,i] = 1                 \n",
        "      ratio = mtx[j,i]/mtx[i,i]                \n",
        "      mtx[j] = mtx[j] - ratio*mtx[i]\n",
        "      L[j,i] = ratio \n",
        "\n",
        "  L[n-1,n-1] = 1  # To fill the bottom-right corner with the appropriate 1 value for the L mtx\n",
        "\n",
        "\n",
        "  print(P)\n",
        "  print()\n",
        "  print(L)\n",
        "  print()\n",
        "  print(mtx)\n",
        "\n",
        "  return P,L,mtx\n",
        "\n",
        "\n"
      ],
      "execution_count": 17,
      "outputs": []
    },
    {
      "cell_type": "code",
      "metadata": {
        "id": "1hwYE03m6CxT",
        "colab_type": "code",
        "colab": {
          "base_uri": "https://localhost:8080/",
          "height": 374
        },
        "outputId": "7fe7ab24-9a47-4ea7-ac14-28ab14959de4"
      },
      "source": [
        "#Test Case\n",
        "\n",
        "\n",
        "A = np.array([[0,1,1], [1,2,1], [2,7,9]])\n",
        "#b = np.array([13,10,19])\n",
        "P,L,U = lu_decomp(A)\n",
        "\n",
        "print('-----------')\n",
        "print('-----------')\n",
        "\n",
        "print()\n",
        "print(P.dot(A))\n",
        "print('-----------')\n",
        "print(L.dot(U))"
      ],
      "execution_count": 21,
      "outputs": [
        {
          "output_type": "stream",
          "text": [
            "[[0. 0. 1.]\n",
            " [0. 1. 0.]\n",
            " [1. 0. 0.]]\n",
            "\n",
            "[[ 1.          0.          0.        ]\n",
            " [ 0.5         1.          0.        ]\n",
            " [ 0.         -0.66666667  1.        ]]\n",
            "\n",
            "[[ 2.          7.          9.        ]\n",
            " [ 0.         -1.5        -3.5       ]\n",
            " [ 0.          0.         -1.33333333]]\n",
            "-----------\n",
            "-----------\n",
            "\n",
            "[[2. 7. 9.]\n",
            " [1. 2. 1.]\n",
            " [0. 1. 1.]]\n",
            "-----------\n",
            "[[2. 7. 9.]\n",
            " [1. 2. 1.]\n",
            " [0. 1. 1.]]\n"
          ],
          "name": "stdout"
        }
      ]
    },
    {
      "cell_type": "code",
      "metadata": {
        "id": "QCfRquNJ5BzF",
        "colab_type": "code",
        "colab": {
          "base_uri": "https://localhost:8080/",
          "height": 204
        },
        "outputId": "23b8851d-f320-4117-b7c3-4ffcc0584ca5"
      },
      "source": [
        "#Comparing with the LU-decomposition done by scipy package \n",
        "\n",
        "from scipy.linalg import lu\n",
        "A = np.array([[0,1,1], [1,2,1], [2,7,9]])\n",
        "p, l, u = lu(A)\n",
        "\n",
        "print(p)\n",
        "print()\n",
        "print(L)\n",
        "print()\n",
        "print(u)"
      ],
      "execution_count": 22,
      "outputs": [
        {
          "output_type": "stream",
          "text": [
            "[[0. 0. 1.]\n",
            " [0. 1. 0.]\n",
            " [1. 0. 0.]]\n",
            "\n",
            "[[ 1.          0.          0.        ]\n",
            " [ 0.5         1.          0.        ]\n",
            " [ 0.         -0.66666667  1.        ]]\n",
            "\n",
            "[[ 2.          7.          9.        ]\n",
            " [ 0.         -1.5        -3.5       ]\n",
            " [ 0.          0.         -1.33333333]]\n"
          ],
          "name": "stdout"
        }
      ]
    },
    {
      "cell_type": "code",
      "metadata": {
        "id": "CSpGvh5F5Ms-",
        "colab_type": "code",
        "colab": {
          "base_uri": "https://localhost:8080/",
          "height": 204
        },
        "outputId": "10c4e987-6a87-4d0c-cb1b-1a1bca513d24"
      },
      "source": [
        ""
      ],
      "execution_count": 20,
      "outputs": [
        {
          "output_type": "stream",
          "text": [
            "[[0. 0. 1.]\n",
            " [0. 1. 0.]\n",
            " [1. 0. 0.]]\n",
            "\n",
            "[[ 1.          0.          0.        ]\n",
            " [ 0.5         1.          0.        ]\n",
            " [ 0.         -0.66666667  1.        ]]\n",
            "\n",
            "[[ 2.          7.          9.        ]\n",
            " [ 0.         -1.5        -3.5       ]\n",
            " [ 0.          0.         -1.33333333]]\n"
          ],
          "name": "stdout"
        }
      ]
    },
    {
      "cell_type": "code",
      "metadata": {
        "id": "Vl_CNPb66CfH",
        "colab_type": "code",
        "colab": {
          "base_uri": "https://localhost:8080/",
          "height": 629
        },
        "outputId": "66766675-6416-4e77-da08-f5af8b35f5bf"
      },
      "source": [
        "A = np.array([[1,3,1,1,1], [9,1,1,1,2], [1,1,12,1,3], [1,1,3,1,4], [1,1,1,2,5]])\n",
        "#b = np.array([1,6,4])\n",
        "P,L,U = lu_decomp(A)\n",
        "\n",
        "print('-----------')\n",
        "print('-----------')\n",
        "\n",
        "print()\n",
        "print(P.dot(A))\n",
        "print('-----------')\n",
        "print(L.dot(U))"
      ],
      "execution_count": null,
      "outputs": [
        {
          "output_type": "stream",
          "text": [
            "[[0. 1. 0. 0. 0.]\n",
            " [1. 0. 0. 0. 0.]\n",
            " [0. 0. 1. 0. 0.]\n",
            " [0. 0. 0. 0. 1.]\n",
            " [0. 0. 0. 1. 0.]]\n",
            "\n",
            "[[1.         0.         0.         0.         0.        ]\n",
            " [0.11111111 1.         0.         0.         0.        ]\n",
            " [0.11111111 0.30769231 1.         0.         0.        ]\n",
            " [0.11111111 0.30769231 0.05298013 1.         0.        ]\n",
            " [0.11111111 0.30769231 0.22516556 0.30125523 1.        ]]\n",
            "\n",
            "[[9.00000000e+00 1.00000000e+00 1.00000000e+00 1.00000000e+00\n",
            "  2.00000000e+00]\n",
            " [0.00000000e+00 2.88888889e+00 8.88888889e-01 8.88888889e-01\n",
            "  7.77777778e-01]\n",
            " [0.00000000e+00 1.11022302e-16 1.16153846e+01 6.15384615e-01\n",
            "  2.53846154e+00]\n",
            " [0.00000000e+00 1.05140326e-16 0.00000000e+00 1.58278146e+00\n",
            "  4.40397351e+00]\n",
            " [0.00000000e+00 5.43498301e-17 0.00000000e+00 5.55111512e-17\n",
            "  1.64016736e+00]]\n",
            "-----------\n",
            "-----------\n",
            "\n",
            "[[ 9.  1.  1.  1.  2.]\n",
            " [ 1.  3.  1.  1.  1.]\n",
            " [ 1.  1. 12.  1.  3.]\n",
            " [ 1.  1.  1.  2.  5.]\n",
            " [ 1.  1.  3.  1.  4.]]\n",
            "-----------\n",
            "[[ 9.  1.  1.  1.  2.]\n",
            " [ 1.  3.  1.  1.  1.]\n",
            " [ 1.  1. 12.  1.  3.]\n",
            " [ 1.  1.  1.  2.  5.]\n",
            " [ 1.  1.  3.  1.  4.]]\n"
          ],
          "name": "stdout"
        }
      ]
    },
    {
      "cell_type": "code",
      "metadata": {
        "id": "p-9A10BpGqpX",
        "colab_type": "code",
        "colab": {
          "base_uri": "https://localhost:8080/",
          "height": 306
        },
        "outputId": "9f369340-db19-4868-d2f3-31e5d636262b"
      },
      "source": [
        "p,l,u = lu(A)\n",
        "\n",
        "print(p)\n",
        "print()\n",
        "print(L)\n",
        "print()\n",
        "print(u)"
      ],
      "execution_count": null,
      "outputs": [
        {
          "output_type": "stream",
          "text": [
            "[[0. 1. 0. 0. 0.]\n",
            " [1. 0. 0. 0. 0.]\n",
            " [0. 0. 1. 0. 0.]\n",
            " [0. 0. 0. 0. 1.]\n",
            " [0. 0. 0. 1. 0.]]\n",
            "\n",
            "[[1.         0.         0.         0.         0.        ]\n",
            " [0.11111111 1.         0.         0.         0.        ]\n",
            " [0.11111111 0.30769231 1.         0.         0.        ]\n",
            " [0.11111111 0.30769231 0.05298013 1.         0.        ]\n",
            " [0.11111111 0.30769231 0.22516556 0.30125523 1.        ]]\n",
            "\n",
            "[[ 9.          1.          1.          1.          2.        ]\n",
            " [ 0.          2.88888889  0.88888889  0.88888889  0.77777778]\n",
            " [ 0.          0.         11.61538462  0.61538462  2.53846154]\n",
            " [ 0.          0.          0.          1.58278146  4.40397351]\n",
            " [ 0.          0.          0.          0.          1.64016736]]\n"
          ],
          "name": "stdout"
        }
      ]
    },
    {
      "cell_type": "markdown",
      "metadata": {
        "id": "OO7ju03Y6ST8",
        "colab_type": "text"
      },
      "source": [
        "# **Backup**"
      ]
    },
    {
      "cell_type": "code",
      "metadata": {
        "id": "axuzghyPcsi4",
        "colab_type": "code",
        "colab": {}
      },
      "source": [
        "##################### Backup #################3\n",
        "\n",
        "def lu_decomp(mtx, b): \n",
        "  ''' \n",
        "  Expected to have a square mtx as an input\n",
        "  '''\n",
        "  mtx = mtx.astype(np.float64)\n",
        "  b = b.astype(np.float64)\n",
        "\n",
        "  #print(mtx.shape)\n",
        "  #print()\n",
        "\n",
        "  #### If not a square mtx, throw an error message\n",
        "  if mtx.shape[0] != mtx.shape[1]:\n",
        "    print('Please provide a square matrix')\n",
        "    return -1 \n",
        "  \n",
        "  n = mtx.shape[0] #Extract dimension\n",
        "  L = np.zeros((n,n))\n",
        "  #P = np.eye(n)\n",
        "  \n",
        "  mtx_exp = np.zeros((n,n+1)) #Creating Augumented/Expanded matrix and filling them w/ a zero\n",
        "  mtx_exp[:, :n] = mtx  #Original matrix to the nxn area\n",
        "  mtx_exp[:, n] = b     #Append the n+1th column with b\n",
        "  #print(mtx_exp)\n",
        "\n",
        "  #### Gauss can be implemented iff r(mtx) = r(mtx|b)\n",
        "  if matrix_rank(mtx) != matrix_rank(mtx_exp): \n",
        "    print('Please provide another square mtx, because yours will not be solved due to the rank problem.')\n",
        "    return -1 \n",
        "\n",
        "  for i in range(n): #Using pivot selection algorithm w/ regards to column\n",
        "    pivot_val = max(mtx[i:, i]) #Determine the biggest value in the RIGHT size of column \n",
        "    row_index = np.where(mtx[i:, i] == pivot_val)[0][0] + i   #As we decrease the size of a matrix when selecting from the reduced column, to get the real row_index of the biggest element => need to append it with the reduced dimension\n",
        "    #print('Before tinkering:')\n",
        "    #print(mtx)\n",
        "    #print(b)\n",
        "    #print()\n",
        "    mtx[[i,row_index]] = mtx[[row_index, i]]   #swap rows according to row_index determined by the biggest element in a column \n",
        "    b[i], b[row_index] = b[row_index], b[i]    #swap corresponding to the appropriate elements\n",
        "\n",
        "    if i == 0:\n",
        "      P_orig = np.eye(n)\n",
        "      P_orig[[i,row_index]] = P_orig[[row_index, i]] \n",
        "      P_transient = copy.deepcopy(P_orig)\n",
        "      #print(P_transient)\n",
        "\n",
        "\n",
        "    elif i != 0 and i != n-1:\n",
        "      P_orig = np.eye(n)\n",
        "      P_orig[[i,row_index]] = P_orig[[row_index, i]] \n",
        "      P_new = copy.deepcopy(P_orig)\n",
        "      P = P_new.dot(P_transient)\n",
        "      P_transient = P\n",
        "      L = P_new.dot(L)\n",
        "  \n",
        "\n",
        "    #print(mtx)\n",
        "    #print(b)\n",
        "    #print()\n",
        "\n",
        "    #mtx[i, :] = mtx[i, :]/pivot_val        #To get 1 at the pivot element, need to divide the whole row by the pivot_element\n",
        "    #b[i] = b[i]/pivot_val                   #Do the same with the corresponding b value \n",
        "\n",
        "    #print(mtx)\n",
        "    #print(b)\n",
        "    #print()\n",
        "\n",
        "    \n",
        "    ###The Gauss-elimination step \n",
        "    for j in range(i+1, n):\n",
        "      L[i,i] = 1\n",
        "      #print(L)                 \n",
        "      ratio = mtx[j,i]/mtx[i,i]                 \n",
        "      mtx[j] = mtx[j] - ratio*mtx[i]\n",
        "      b[j] = b[j] - ratio*b[i]\n",
        "      L[j,i] = ratio \n",
        "      #print(L)\n",
        "      #print()\n",
        "\n",
        "  L[n-1,n-1] = 1\n",
        "\n",
        "\n",
        "    #print(mtx)\n",
        "    #print(b)\n",
        "    #print('---------------------------')\n",
        "\n",
        "\n",
        "  #x = np.zeros(b.shape)         #creating the zero_vector x having the same shape as the b vector\n",
        "\n",
        "  #Backsubtitution:\n",
        "  #x[n-1] = b[n-1]/mtx[n-1, n-1]     #Calculating the last value of x with the help of the corresponding b value and the bottom right element of the upper triangular matrix\n",
        "  #print(x)\n",
        "\n",
        "\n",
        "  #for i in range(n-2, -1, -1):\n",
        "    #x[i] = b[i]\n",
        "\n",
        "    #for j in range(i+1, n):\n",
        "      #x[i] = x[i] - mtx[i, j]*x[j]     #Subtracting the appropriate values from the matrix with the known coefficents x calculated in previous steps\n",
        "\n",
        "  \n",
        "  #print(x)\n",
        "  #print('\\nRequired solution is: ')\n",
        "  #for i in range(n):\n",
        "    #print('X%d = %0.2f' %(i,x[i]), end = '\\t')  \n",
        "\n",
        "  #x = list(x)\n",
        "\n",
        "\n",
        "  #return mtx,b, x\n",
        "  print(P)\n",
        "  print()\n",
        "  print(L)\n",
        "  print()\n",
        "  print(mtx)\n",
        "\n",
        "  return P,L,mtx\n",
        "\n",
        "\n"
      ],
      "execution_count": null,
      "outputs": []
    },
    {
      "cell_type": "code",
      "metadata": {
        "id": "FwCF45Ds6ONp",
        "colab_type": "code",
        "colab": {}
      },
      "source": [
        "############# Backup ####################\n",
        "\n",
        "A = np.array([[1,1,1], [4,3,-1], [3,5,3]])\n",
        "b = np.array([1,6,4])\n",
        "P,L,U = lu_decomp(A,b)\n",
        "\n",
        "print('-----------')\n",
        "print('-----------')\n",
        "\n",
        "print()\n",
        "print(P.dot(A))\n",
        "print('-----------')\n",
        "print(L.dot(U))"
      ],
      "execution_count": null,
      "outputs": []
    }
  ]
}